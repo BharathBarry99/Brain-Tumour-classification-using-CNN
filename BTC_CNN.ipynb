{
 "cells": [
  {
   "cell_type": "markdown",
   "id": "f3e65965",
   "metadata": {},
   "source": [
    "# Brain Tumor Classification using CNN "
   ]
  },
  {
   "cell_type": "markdown",
   "id": "5089b8a2",
   "metadata": {},
   "source": [
    "# MODULES"
   ]
  },
  {
   "cell_type": "code",
   "execution_count": 1,
   "id": "dc2edfe1",
   "metadata": {},
   "outputs": [],
   "source": [
    "from tensorflow.keras.layers import Conv2D, MaxPooling2D, Flatten, Dense, Dropout, BatchNormalization\n",
    "from tensorflow.keras.preprocessing.image import ImageDataGenerator\n",
    "from sklearn.model_selection import train_test_split\n",
    "from sklearn.preprocessing import OneHotEncoder\n",
    "from tensorflow.keras.models import Sequential\n",
    "from tensorflow.keras.optimizers import Adam\n",
    "from tensorflow.keras import regularizers\n",
    "import matplotlib.pyplot as plt\n",
    "from tensorflow import keras\n",
    "import tensorflow as tf\n",
    "from PIL import Image\n",
    "import pandas as pd\n",
    "import numpy as np\n",
    "import cv2\n",
    "import os"
   ]
  },
  {
   "cell_type": "code",
   "execution_count": 2,
   "id": "6622dff9",
   "metadata": {},
   "outputs": [],
   "source": [
    "# Changing Working Directory\n",
    "os.chdir(r\"...\\Brain Tumor Detection using CNN\")"
   ]
  },
  {
   "cell_type": "markdown",
   "id": "a7f052f1",
   "metadata": {},
   "source": [
    "# PARAMETERS"
   ]
  },
  {
   "cell_type": "code",
   "execution_count": 3,
   "id": "d8daf9d3",
   "metadata": {},
   "outputs": [],
   "source": [
    "epoch=100\n",
    "batch_size_val=30\n",
    "imageDimensions=(128,128,3) #bgr\n",
    "\n",
    "testRatio = 0.2  # if 1000 images split will 200 for testing\n",
    "validationRatio = 0.2  # if 1000 images 20% of remaining 800 will be 160 for validation"
   ]
  },
  {
   "cell_type": "code",
   "execution_count": 4,
   "id": "5073c0e5",
   "metadata": {},
   "outputs": [
    {
     "data": {
      "text/plain": [
       "OneHotEncoder()"
      ]
     },
     "execution_count": 4,
     "metadata": {},
     "output_type": "execute_result"
    }
   ],
   "source": [
    "# Catergorial Representaion by One Hot Encoding\n",
    "encoder = OneHotEncoder()\n",
    "encoder.fit([[0], [1]]) "
   ]
  },
  {
   "cell_type": "markdown",
   "id": "d9a738ad",
   "metadata": {},
   "source": [
    "# Importing Images"
   ]
  },
  {
   "cell_type": "code",
   "execution_count": 5,
   "id": "63070ac9",
   "metadata": {},
   "outputs": [],
   "source": [
    "# Updates result list for images with tumor\n",
    "data = [] # numpy array\n",
    "paths = [] # all images\n",
    "result = [] # images label\n",
    "\n",
    "for r, d, f in os.walk(r'brain_tumor_dataset\\yes'):\n",
    "    for file in f:\n",
    "        if '.jpg' in file:\n",
    "            paths.append(os.path.join(r, file))\n",
    "\n",
    "for path in paths:\n",
    "    \n",
    "    img = Image.open(path)\n",
    "    img = img.resize((imageDimensions[0],imageDimensions[1]))\n",
    "    img = np.array(img)\n",
    "    if(img.shape == (imageDimensions[0],imageDimensions[1],imageDimensions[2])):\n",
    "        data.append(np.array(img))\n",
    "        result.append(encoder.transform([[0]]).toarray())"
   ]
  },
  {
   "cell_type": "code",
   "execution_count": 6,
   "id": "f3ba47c8",
   "metadata": {},
   "outputs": [],
   "source": [
    "# Updates result list for images without tumor\n",
    "\n",
    "paths = []\n",
    "for r, d, f in os.walk(r\"brain_tumor_dataset\\no\"):\n",
    "    for file in f:\n",
    "        if '.jpg' in file:\n",
    "            paths.append(os.path.join(r, file))\n",
    "\n",
    "for path in paths:\n",
    "    img = Image.open(path)\n",
    "    img = img.resize((imageDimensions[0],imageDimensions[1]))\n",
    "    img = np.array(img)\n",
    "    if(img.shape == (imageDimensions[0],imageDimensions[1],imageDimensions[2])):\n",
    "        data.append(np.array(img))\n",
    "        result.append(encoder.transform([[1]]).toarray())"
   ]
  },
  {
   "cell_type": "markdown",
   "id": "141e68d8",
   "metadata": {},
   "source": [
    "# Storing as NUMPY array"
   ]
  },
  {
   "cell_type": "code",
   "execution_count": 7,
   "id": "f8d73f8f",
   "metadata": {},
   "outputs": [],
   "source": [
    "data = np.array(data) # Stores images"
   ]
  },
  {
   "cell_type": "code",
   "execution_count": 19,
   "id": "0bd5265b",
   "metadata": {},
   "outputs": [
    {
     "name": "stdout",
     "output_type": "stream",
     "text": [
      "(138, 2)\n"
     ]
    }
   ],
   "source": [
    "result = np.array(result) # Stores respective images's label\n",
    "print(result.shape)"
   ]
  },
  {
   "cell_type": "markdown",
   "id": "c02845ce",
   "metadata": {},
   "source": [
    "# Data Splitting"
   ]
  },
  {
   "cell_type": "code",
   "execution_count": 15,
   "id": "0b73b894",
   "metadata": {},
   "outputs": [],
   "source": [
    "# 80% Training 20% Testing of total data\n",
    "X_train,X_test,y_train,y_test = train_test_split(data, result, test_size=testRatio, shuffle=True, random_state=0)\n",
    "\n",
    "# 80% Training 20% Validation of training data\n",
    "X_train, X_validation, y_train, y_validation = train_test_split(X_train, y_train, test_size=validationRatio,shuffle=True, random_state=0)\n",
    "\n",
    "# 64%-training\n",
    "# 16%-validation\n",
    "# 20%-testing"
   ]
  },
  {
   "cell_type": "code",
   "execution_count": 36,
   "id": "c38ed1cd",
   "metadata": {},
   "outputs": [
    {
     "name": "stdout",
     "output_type": "stream",
     "text": [
      "Data Shapes\n",
      "Train(110, 128, 128, 3) (110, 2)\n",
      "Validation(28, 128, 128, 3) (28, 2)\n",
      "Test(28, 128, 128, 3) (28, 2)\n"
     ]
    }
   ],
   "source": [
    "############################### TO CHECK IF NUMBER OF IMAGES MATCHES TO NUMBER OF LABELS FOR EACH DATA SET\n",
    "print(\"Data Shapes\")\n",
    "print(\"Train\", end=\"\")\n",
    "print(X_train.shape, y_train.shape)\n",
    "print(\"Validation\", end=\"\")\n",
    "print(X_validation.shape, y_validation.shape)\n",
    "print(\"Test\", end=\"\")\n",
    "print(X_test.shape, y_test.shape)\n",
    "assert (X_train.shape[0]==y_train.shape[0]), \"The number of images in not equal to the number of lables in training set\"\n",
    "assert (X_validation.shape[0]==y_validation.shape[0]), \"The number of images in not equal to the number of lables in validation set\"\n",
    "assert (X_test.shape[0]==y_test.shape[0]), \"The number of images in not equal to the number of lables in test set\"\n",
    "assert (X_train.shape[1:]==(imageDimensions)),\" The dimesions of the Training images are wrong \"\n",
    "assert (X_validation.shape[1:]==(imageDimensions)),\" The dimesionas of the Validation images are wrong \"\n",
    "assert (X_test.shape[1:]==(imageDimensions)),\" The dimesionas of the Test images are wrong\""
   ]
  },
  {
   "cell_type": "markdown",
   "id": "354bd2eb",
   "metadata": {},
   "source": [
    "# Data Augmentation "
   ]
  },
  {
   "cell_type": "code",
   "execution_count": 37,
   "id": "9ed11ac0",
   "metadata": {},
   "outputs": [],
   "source": [
    "# AUGMENTATAION OF IMAGES: TO MAKEIT MORE GENERIC\n",
    "\n",
    "dataGen = ImageDataGenerator(width_shift_range=0.1,\n",
    "                             # 0.1 = 10%     IF MORE THAN 1 E.G 10 THEN IT REFFERS TO NO. OF  PIXELS EG 10 PIXELS\n",
    "                             height_shift_range=0.1,\n",
    "                             zoom_range=0.2,  # 0.2 MEANS CAN GO FROM 0.8 TO 1.2\n",
    "                             shear_range=0.1,  # MAGNITUDE OF SHEAR ANGLE\n",
    "                             rotation_range=10)  # DEGREES\n",
    "dataGen.fit(X_train)\n",
    "batches = dataGen.flow(X_train, y_train,batch_size=20)  # REQUESTING DATA GENRATOR TO GENERATE IMAGES  BATCH SIZE = NO. OF IMAGES CREAED EACH TIME ITS CALLED\n",
    "X_batch, y_batch = next(batches)"
   ]
  },
  {
   "cell_type": "markdown",
   "id": "f654a104",
   "metadata": {},
   "source": [
    "# CNN Model"
   ]
  },
  {
   "cell_type": "code",
   "execution_count": 38,
   "id": "1c261cc3",
   "metadata": {},
   "outputs": [],
   "source": [
    "\n",
    "def myModel():\n",
    "    no_Of_Filters = 64\n",
    "    size_of_Filter = (5, 5)  # THIS IS THE KERNEL THAT MOVE AROUND THE IMAGE TO GET THE FEATURES.\n",
    "    # THIS WOULD REMOVE 2 PIXELS FROM EACH BORDER WHEN USING 128 128 IMAGE\n",
    "    size_of_Filter2 = (3, 3)\n",
    "    size_of_pool = (2, 2)  # SCALE DOWN ALL FEATURE MAP TO GERNALIZE MORE, TO REDUCE OVERFITTING\n",
    "    no_Of_Nodes = 500  # NO. OF NODES IN HIDDEN LAYERS\n",
    "    model = Sequential()\n",
    "    model.add((Conv2D(no_Of_Filters, size_of_Filter, input_shape=(imageDimensions[0],imageDimensions[1],imageDimensions[2]),activation='relu')))  # ADDING MORE CONVOLUTION LAYERS = LESS FEATURES BUT CAN CAUSE ACCURACY TO INCREASE\n",
    "    model.add((Conv2D(no_Of_Filters, size_of_Filter, activation='relu')))\n",
    "    model.add(MaxPooling2D(pool_size=size_of_pool))  # DOES NOT EFFECT THE DEPTH/NO OF FILTERS\n",
    "    model.add(Dense(units=64,kernel_regularizer=regularizers.l1_l2(l1=1e-5, l2=1e-4),bias_regularizer=regularizers.l2(1e-4),activity_regularizer=regularizers.l2(1e-5)))\n",
    "\n",
    "    model.add((Conv2D(no_Of_Filters // 2, size_of_Filter2, activation='relu')))\n",
    "    model.add((Conv2D(no_Of_Filters // 2, size_of_Filter2, activation='relu')))\n",
    "    model.add(MaxPooling2D(pool_size=size_of_pool))\n",
    "    model.add(Dropout(0.2))\n",
    "\n",
    "    model.add(Flatten())\n",
    "    model.add(Dense(no_Of_Nodes, activation='relu'))\n",
    "    model.add(Dropout(0.2))  # INPUTS NODES TO DROP WITH EACH UPDATE 1 ALL 0 NONE\n",
    "    model.add(Dense(2, activation='softmax'))  # OUTPUT LAYER\n",
    "    \n",
    "    # COMPILE MODEL\n",
    "    model.compile(Adam(lr=0.0001), loss='categorical_crossentropy', metrics=['accuracy'])\n",
    "    return model\n"
   ]
  },
  {
   "cell_type": "markdown",
   "id": "27c4dfbd",
   "metadata": {},
   "source": [
    "# Model Training"
   ]
  },
  {
   "cell_type": "code",
   "execution_count": 43,
   "id": "478973c0",
   "metadata": {
    "scrolled": false
   },
   "outputs": [
    {
     "name": "stdout",
     "output_type": "stream",
     "text": [
      "Model: \"sequential_5\"\n",
      "_________________________________________________________________\n",
      "Layer (type)                 Output Shape              Param #   \n",
      "=================================================================\n",
      "conv2d_20 (Conv2D)           (None, 124, 124, 64)      4864      \n",
      "_________________________________________________________________\n",
      "conv2d_21 (Conv2D)           (None, 120, 120, 64)      102464    \n",
      "_________________________________________________________________\n",
      "max_pooling2d_10 (MaxPooling (None, 60, 60, 64)        0         \n",
      "_________________________________________________________________\n",
      "dense_15 (Dense)             (None, 60, 60, 64)        4160      \n",
      "_________________________________________________________________\n",
      "conv2d_22 (Conv2D)           (None, 58, 58, 32)        18464     \n",
      "_________________________________________________________________\n",
      "conv2d_23 (Conv2D)           (None, 56, 56, 32)        9248      \n",
      "_________________________________________________________________\n",
      "max_pooling2d_11 (MaxPooling (None, 28, 28, 32)        0         \n",
      "_________________________________________________________________\n",
      "dropout_10 (Dropout)         (None, 28, 28, 32)        0         \n",
      "_________________________________________________________________\n",
      "flatten_5 (Flatten)          (None, 25088)             0         \n",
      "_________________________________________________________________\n",
      "dense_16 (Dense)             (None, 500)               12544500  \n",
      "_________________________________________________________________\n",
      "dropout_11 (Dropout)         (None, 500)               0         \n",
      "_________________________________________________________________\n",
      "dense_17 (Dense)             (None, 2)                 1002      \n",
      "=================================================================\n",
      "Total params: 12,684,702\n",
      "Trainable params: 12,684,702\n",
      "Non-trainable params: 0\n",
      "_________________________________________________________________\n",
      "None\n",
      "Epoch 1/100\n",
      "4/4 [==============================] - 5s 1s/step - loss: 381.6393 - accuracy: 0.4545 - val_loss: 173.6896 - val_accuracy: 0.5714\n",
      "Epoch 2/100\n",
      "4/4 [==============================] - 5s 1s/step - loss: 118.3424 - accuracy: 0.5545 - val_loss: 71.6116 - val_accuracy: 0.4286\n",
      "Epoch 3/100\n",
      "4/4 [==============================] - 5s 1s/step - loss: 44.2317 - accuracy: 0.5455 - val_loss: 36.9251 - val_accuracy: 0.7143\n",
      "Epoch 4/100\n",
      "4/4 [==============================] - 5s 1s/step - loss: 25.4977 - accuracy: 0.6545 - val_loss: 24.0433 - val_accuracy: 0.6786\n",
      "Epoch 5/100\n",
      "4/4 [==============================] - 5s 1s/step - loss: 16.2606 - accuracy: 0.6091 - val_loss: 14.5934 - val_accuracy: 0.8214\n",
      "Epoch 6/100\n",
      "4/4 [==============================] - 5s 1s/step - loss: 8.8344 - accuracy: 0.5636 - val_loss: 8.5182 - val_accuracy: 0.6786\n",
      "Epoch 7/100\n",
      "4/4 [==============================] - 5s 1s/step - loss: 4.9422 - accuracy: 0.5818 - val_loss: 5.4827 - val_accuracy: 0.7500\n",
      "Epoch 8/100\n",
      "4/4 [==============================] - 5s 1s/step - loss: 3.0846 - accuracy: 0.7091 - val_loss: 4.0595 - val_accuracy: 0.7143\n",
      "Epoch 9/100\n",
      "4/4 [==============================] - 5s 1s/step - loss: 2.3015 - accuracy: 0.6273 - val_loss: 3.2985 - val_accuracy: 0.7143\n",
      "Epoch 10/100\n",
      "4/4 [==============================] - 5s 1s/step - loss: 1.8022 - accuracy: 0.6818 - val_loss: 2.8186 - val_accuracy: 0.6786\n",
      "Epoch 11/100\n",
      "4/4 [==============================] - 5s 1s/step - loss: 1.5441 - accuracy: 0.6727 - val_loss: 2.4711 - val_accuracy: 0.6786\n",
      "Epoch 12/100\n",
      "4/4 [==============================] - 5s 1s/step - loss: 1.4499 - accuracy: 0.5818 - val_loss: 2.1948 - val_accuracy: 0.6786\n",
      "Epoch 13/100\n",
      "4/4 [==============================] - 5s 1s/step - loss: 1.2854 - accuracy: 0.6818 - val_loss: 1.9734 - val_accuracy: 0.7857\n",
      "Epoch 14/100\n",
      "4/4 [==============================] - 5s 1s/step - loss: 1.1637 - accuracy: 0.6727 - val_loss: 1.8026 - val_accuracy: 0.8214\n",
      "Epoch 15/100\n",
      "4/4 [==============================] - 5s 1s/step - loss: 1.1276 - accuracy: 0.6545 - val_loss: 1.6830 - val_accuracy: 0.7857\n",
      "Epoch 16/100\n",
      "4/4 [==============================] - 5s 1s/step - loss: 1.0625 - accuracy: 0.7182 - val_loss: 1.5783 - val_accuracy: 0.8214\n",
      "Epoch 17/100\n",
      "4/4 [==============================] - 5s 1s/step - loss: 1.0150 - accuracy: 0.6545 - val_loss: 1.4856 - val_accuracy: 0.8214\n",
      "Epoch 18/100\n",
      "4/4 [==============================] - 5s 1s/step - loss: 0.9767 - accuracy: 0.7000 - val_loss: 1.4009 - val_accuracy: 0.8214\n",
      "Epoch 19/100\n",
      "4/4 [==============================] - 5s 1s/step - loss: 0.9267 - accuracy: 0.6727 - val_loss: 1.3212 - val_accuracy: 0.7857\n",
      "Epoch 20/100\n",
      "4/4 [==============================] - 5s 1s/step - loss: 0.8565 - accuracy: 0.7636 - val_loss: 1.2425 - val_accuracy: 0.8214\n",
      "Epoch 21/100\n",
      "4/4 [==============================] - 5s 1s/step - loss: 0.9045 - accuracy: 0.6455 - val_loss: 1.1693 - val_accuracy: 0.7857\n",
      "Epoch 22/100\n",
      "4/4 [==============================] - 5s 1s/step - loss: 0.8569 - accuracy: 0.6545 - val_loss: 1.1056 - val_accuracy: 0.7500\n",
      "Epoch 23/100\n",
      "4/4 [==============================] - 5s 1s/step - loss: 0.8118 - accuracy: 0.6909 - val_loss: 1.0494 - val_accuracy: 0.7143\n",
      "Epoch 24/100\n",
      "4/4 [==============================] - 5s 1s/step - loss: 0.7821 - accuracy: 0.6636 - val_loss: 0.9960 - val_accuracy: 0.7143\n",
      "Epoch 25/100\n",
      "4/4 [==============================] - 5s 1s/step - loss: 0.7966 - accuracy: 0.6091 - val_loss: 0.9490 - val_accuracy: 0.7143\n",
      "Epoch 26/100\n",
      "4/4 [==============================] - 5s 1s/step - loss: 0.7455 - accuracy: 0.6909 - val_loss: 0.9041 - val_accuracy: 0.7143\n",
      "Epoch 27/100\n",
      "4/4 [==============================] - 5s 1s/step - loss: 0.7182 - accuracy: 0.7091 - val_loss: 0.8673 - val_accuracy: 0.7143\n",
      "Epoch 28/100\n",
      "4/4 [==============================] - 5s 1s/step - loss: 0.7000 - accuracy: 0.7000 - val_loss: 0.8388 - val_accuracy: 0.7143\n",
      "Epoch 29/100\n",
      "4/4 [==============================] - 5s 1s/step - loss: 0.7460 - accuracy: 0.6818 - val_loss: 0.8138 - val_accuracy: 0.7500\n",
      "Epoch 30/100\n",
      "4/4 [==============================] - 5s 1s/step - loss: 0.6757 - accuracy: 0.7182 - val_loss: 0.7905 - val_accuracy: 0.7143\n",
      "Epoch 31/100\n",
      "4/4 [==============================] - 5s 1s/step - loss: 0.7091 - accuracy: 0.7182 - val_loss: 0.7788 - val_accuracy: 0.7500\n",
      "Epoch 32/100\n",
      "4/4 [==============================] - 5s 1s/step - loss: 0.7401 - accuracy: 0.7000 - val_loss: 0.7705 - val_accuracy: 0.7143\n",
      "Epoch 33/100\n",
      "4/4 [==============================] - 5s 1s/step - loss: 0.6649 - accuracy: 0.7364 - val_loss: 0.7513 - val_accuracy: 0.6786\n",
      "Epoch 34/100\n",
      "4/4 [==============================] - 5s 1s/step - loss: 0.6929 - accuracy: 0.6636 - val_loss: 0.7325 - val_accuracy: 0.6786\n",
      "Epoch 35/100\n",
      "4/4 [==============================] - 5s 1s/step - loss: 0.6572 - accuracy: 0.7364 - val_loss: 0.7222 - val_accuracy: 0.6429\n",
      "Epoch 36/100\n",
      "4/4 [==============================] - 5s 1s/step - loss: 0.6282 - accuracy: 0.7636 - val_loss: 0.7188 - val_accuracy: 0.6786\n",
      "Epoch 37/100\n",
      "4/4 [==============================] - 5s 1s/step - loss: 0.6629 - accuracy: 0.6818 - val_loss: 0.7124 - val_accuracy: 0.6786\n",
      "Epoch 38/100\n",
      "4/4 [==============================] - 5s 1s/step - loss: 0.6308 - accuracy: 0.7545 - val_loss: 0.7019 - val_accuracy: 0.6786\n",
      "Epoch 39/100\n",
      "4/4 [==============================] - 5s 1s/step - loss: 0.6146 - accuracy: 0.7273 - val_loss: 0.6941 - val_accuracy: 0.6786\n",
      "Epoch 40/100\n",
      "4/4 [==============================] - 5s 1s/step - loss: 0.6338 - accuracy: 0.7364 - val_loss: 0.6926 - val_accuracy: 0.6429\n",
      "Epoch 41/100\n",
      "4/4 [==============================] - 5s 1s/step - loss: 0.5933 - accuracy: 0.7455 - val_loss: 0.6883 - val_accuracy: 0.6429\n",
      "Epoch 42/100\n",
      "4/4 [==============================] - 5s 1s/step - loss: 0.5566 - accuracy: 0.7909 - val_loss: 0.6828 - val_accuracy: 0.6429\n",
      "Epoch 43/100\n",
      "4/4 [==============================] - 5s 1s/step - loss: 0.5791 - accuracy: 0.7455 - val_loss: 0.6904 - val_accuracy: 0.6786\n",
      "Epoch 44/100\n",
      "4/4 [==============================] - 5s 1s/step - loss: 0.5675 - accuracy: 0.7545 - val_loss: 0.6789 - val_accuracy: 0.6786\n",
      "Epoch 45/100\n",
      "4/4 [==============================] - 5s 1s/step - loss: 0.5565 - accuracy: 0.8182 - val_loss: 0.6783 - val_accuracy: 0.6786\n"
     ]
    },
    {
     "name": "stdout",
     "output_type": "stream",
     "text": [
      "Epoch 46/100\n",
      "4/4 [==============================] - 5s 1s/step - loss: 0.5701 - accuracy: 0.7636 - val_loss: 0.6835 - val_accuracy: 0.6429\n",
      "Epoch 47/100\n",
      "4/4 [==============================] - 5s 1s/step - loss: 0.5171 - accuracy: 0.8091 - val_loss: 0.6705 - val_accuracy: 0.6786\n",
      "Epoch 48/100\n",
      "4/4 [==============================] - 5s 1s/step - loss: 0.5957 - accuracy: 0.7545 - val_loss: 0.6682 - val_accuracy: 0.7500\n",
      "Epoch 49/100\n",
      "4/4 [==============================] - 5s 1s/step - loss: 0.5566 - accuracy: 0.7727 - val_loss: 0.6420 - val_accuracy: 0.6786\n",
      "Epoch 50/100\n",
      "4/4 [==============================] - 5s 1s/step - loss: 0.5597 - accuracy: 0.7455 - val_loss: 0.6388 - val_accuracy: 0.6786\n",
      "Epoch 51/100\n",
      "4/4 [==============================] - 5s 1s/step - loss: 0.5508 - accuracy: 0.7273 - val_loss: 0.6458 - val_accuracy: 0.7500\n",
      "Epoch 52/100\n",
      "4/4 [==============================] - 5s 1s/step - loss: 0.5626 - accuracy: 0.7636 - val_loss: 0.6528 - val_accuracy: 0.7500\n",
      "Epoch 53/100\n",
      "4/4 [==============================] - 5s 1s/step - loss: 0.5263 - accuracy: 0.7909 - val_loss: 0.6506 - val_accuracy: 0.7500\n",
      "Epoch 54/100\n",
      "4/4 [==============================] - 5s 1s/step - loss: 0.5425 - accuracy: 0.7727 - val_loss: 0.6525 - val_accuracy: 0.6786\n",
      "Epoch 55/100\n",
      "4/4 [==============================] - 5s 1s/step - loss: 0.5643 - accuracy: 0.7545 - val_loss: 0.6507 - val_accuracy: 0.7500\n",
      "Epoch 56/100\n",
      "4/4 [==============================] - 5s 1s/step - loss: 0.5325 - accuracy: 0.7909 - val_loss: 0.6353 - val_accuracy: 0.7143\n",
      "Epoch 57/100\n",
      "4/4 [==============================] - 5s 1s/step - loss: 0.4979 - accuracy: 0.8273 - val_loss: 0.6351 - val_accuracy: 0.7500\n",
      "Epoch 58/100\n",
      "4/4 [==============================] - 5s 1s/step - loss: 0.5078 - accuracy: 0.8182 - val_loss: 0.6267 - val_accuracy: 0.7500\n",
      "Epoch 59/100\n",
      "4/4 [==============================] - 5s 1s/step - loss: 0.5205 - accuracy: 0.7727 - val_loss: 0.6396 - val_accuracy: 0.7500\n",
      "Epoch 60/100\n",
      "4/4 [==============================] - 5s 1s/step - loss: 0.4994 - accuracy: 0.7818 - val_loss: 0.6447 - val_accuracy: 0.7857\n",
      "Epoch 61/100\n",
      "4/4 [==============================] - 5s 1s/step - loss: 0.4948 - accuracy: 0.8182 - val_loss: 0.6490 - val_accuracy: 0.7857\n",
      "Epoch 62/100\n",
      "4/4 [==============================] - 5s 1s/step - loss: 0.4967 - accuracy: 0.8091 - val_loss: 0.6153 - val_accuracy: 0.7500\n",
      "Epoch 63/100\n",
      "4/4 [==============================] - 5s 1s/step - loss: 0.4968 - accuracy: 0.8000 - val_loss: 0.6202 - val_accuracy: 0.7500\n",
      "Epoch 64/100\n",
      "4/4 [==============================] - 5s 1s/step - loss: 0.4192 - accuracy: 0.8364 - val_loss: 0.6448 - val_accuracy: 0.7143\n",
      "Epoch 65/100\n",
      "4/4 [==============================] - 5s 1s/step - loss: 0.4569 - accuracy: 0.7909 - val_loss: 0.6580 - val_accuracy: 0.6786\n",
      "Epoch 66/100\n",
      "4/4 [==============================] - 5s 1s/step - loss: 0.4540 - accuracy: 0.7818 - val_loss: 0.6481 - val_accuracy: 0.7500\n",
      "Epoch 67/100\n",
      "4/4 [==============================] - 5s 1s/step - loss: 0.4339 - accuracy: 0.8364 - val_loss: 0.6416 - val_accuracy: 0.7857\n",
      "Epoch 68/100\n",
      "4/4 [==============================] - 5s 1s/step - loss: 0.5046 - accuracy: 0.7909 - val_loss: 0.6360 - val_accuracy: 0.7857\n",
      "Epoch 69/100\n",
      "4/4 [==============================] - 5s 1s/step - loss: 0.4399 - accuracy: 0.8000 - val_loss: 0.6534 - val_accuracy: 0.7143\n",
      "Epoch 70/100\n",
      "4/4 [==============================] - 5s 1s/step - loss: 0.4854 - accuracy: 0.8000 - val_loss: 0.6304 - val_accuracy: 0.7500\n",
      "Epoch 71/100\n",
      "4/4 [==============================] - 5s 1s/step - loss: 0.4593 - accuracy: 0.8091 - val_loss: 0.6133 - val_accuracy: 0.7500\n",
      "Epoch 72/100\n",
      "4/4 [==============================] - 5s 1s/step - loss: 0.5145 - accuracy: 0.7455 - val_loss: 0.5872 - val_accuracy: 0.7857\n",
      "Epoch 73/100\n",
      "4/4 [==============================] - 5s 1s/step - loss: 0.4626 - accuracy: 0.8182 - val_loss: 0.5751 - val_accuracy: 0.7500\n",
      "Epoch 74/100\n",
      "4/4 [==============================] - 5s 1s/step - loss: 0.4403 - accuracy: 0.8182 - val_loss: 0.6051 - val_accuracy: 0.7857\n",
      "Epoch 75/100\n",
      "4/4 [==============================] - 5s 1s/step - loss: 0.4372 - accuracy: 0.8273 - val_loss: 0.5890 - val_accuracy: 0.7857\n",
      "Epoch 76/100\n",
      "4/4 [==============================] - 5s 1s/step - loss: 0.4577 - accuracy: 0.7818 - val_loss: 0.6037 - val_accuracy: 0.7500\n",
      "Epoch 77/100\n",
      "4/4 [==============================] - 5s 1s/step - loss: 0.4593 - accuracy: 0.7636 - val_loss: 0.6159 - val_accuracy: 0.8214\n",
      "Epoch 78/100\n",
      "4/4 [==============================] - 5s 1s/step - loss: 0.4223 - accuracy: 0.8455 - val_loss: 0.6053 - val_accuracy: 0.8214\n",
      "Epoch 79/100\n",
      "4/4 [==============================] - 5s 1s/step - loss: 0.4116 - accuracy: 0.8455 - val_loss: 0.5883 - val_accuracy: 0.8214\n",
      "Epoch 80/100\n",
      "4/4 [==============================] - 5s 1s/step - loss: 0.4197 - accuracy: 0.8273 - val_loss: 0.6108 - val_accuracy: 0.8571\n",
      "Epoch 81/100\n",
      "4/4 [==============================] - 5s 1s/step - loss: 0.4666 - accuracy: 0.8091 - val_loss: 0.5842 - val_accuracy: 0.8214\n",
      "Epoch 82/100\n",
      "4/4 [==============================] - 5s 1s/step - loss: 0.4421 - accuracy: 0.8273 - val_loss: 0.5764 - val_accuracy: 0.8214\n",
      "Epoch 83/100\n",
      "4/4 [==============================] - 5s 1s/step - loss: 0.4215 - accuracy: 0.8273 - val_loss: 0.6104 - val_accuracy: 0.8214\n",
      "Epoch 84/100\n",
      "4/4 [==============================] - 5s 1s/step - loss: 0.4273 - accuracy: 0.8091 - val_loss: 0.5805 - val_accuracy: 0.8571\n",
      "Epoch 85/100\n",
      "4/4 [==============================] - 5s 1s/step - loss: 0.3827 - accuracy: 0.8455 - val_loss: 0.5868 - val_accuracy: 0.8571\n",
      "Epoch 86/100\n",
      "4/4 [==============================] - 5s 1s/step - loss: 0.4141 - accuracy: 0.8182 - val_loss: 0.5878 - val_accuracy: 0.8214\n",
      "Epoch 87/100\n",
      "4/4 [==============================] - 5s 1s/step - loss: 0.4698 - accuracy: 0.7909 - val_loss: 0.5792 - val_accuracy: 0.8214\n",
      "Epoch 88/100\n",
      "4/4 [==============================] - 5s 1s/step - loss: 0.3727 - accuracy: 0.8636 - val_loss: 0.5673 - val_accuracy: 0.8571\n",
      "Epoch 89/100\n",
      "4/4 [==============================] - 5s 1s/step - loss: 0.3776 - accuracy: 0.8636 - val_loss: 0.5836 - val_accuracy: 0.8571\n",
      "Epoch 90/100\n",
      "4/4 [==============================] - 5s 1s/step - loss: 0.4109 - accuracy: 0.8182 - val_loss: 0.5930 - val_accuracy: 0.8571\n",
      "Epoch 91/100\n",
      "4/4 [==============================] - 5s 1s/step - loss: 0.4054 - accuracy: 0.8636 - val_loss: 0.5766 - val_accuracy: 0.8571\n",
      "Epoch 92/100\n",
      "4/4 [==============================] - 5s 1s/step - loss: 0.4155 - accuracy: 0.8273 - val_loss: 0.5595 - val_accuracy: 0.8571\n",
      "Epoch 93/100\n",
      "4/4 [==============================] - 5s 1s/step - loss: 0.4166 - accuracy: 0.7909 - val_loss: 0.6608 - val_accuracy: 0.7500\n",
      "Epoch 94/100\n",
      "4/4 [==============================] - 5s 1s/step - loss: 0.4445 - accuracy: 0.7727 - val_loss: 0.5858 - val_accuracy: 0.8571\n",
      "Epoch 95/100\n",
      "4/4 [==============================] - 5s 1s/step - loss: 0.3700 - accuracy: 0.8455 - val_loss: 0.5884 - val_accuracy: 0.8571\n",
      "Epoch 96/100\n",
      "4/4 [==============================] - 5s 1s/step - loss: 0.3883 - accuracy: 0.8455 - val_loss: 0.6293 - val_accuracy: 0.8214\n",
      "Epoch 97/100\n",
      "4/4 [==============================] - 5s 1s/step - loss: 0.3955 - accuracy: 0.8182 - val_loss: 0.6045 - val_accuracy: 0.8214\n",
      "Epoch 98/100\n",
      "4/4 [==============================] - 5s 1s/step - loss: 0.4306 - accuracy: 0.8273 - val_loss: 0.6000 - val_accuracy: 0.8214\n",
      "Epoch 99/100\n",
      "4/4 [==============================] - 5s 1s/step - loss: 0.3968 - accuracy: 0.8455 - val_loss: 0.6734 - val_accuracy: 0.7143\n",
      "Epoch 100/100\n",
      "4/4 [==============================] - 5s 1s/step - loss: 0.4029 - accuracy: 0.8000 - val_loss: 0.6011 - val_accuracy: 0.8214\n"
     ]
    }
   ],
   "source": [
    "model = myModel()\n",
    "print(model.summary())\n",
    "history = model.fit(dataGen.flow(X_train, y_train, batch_size=batch_size_val),epochs=epoch,validation_data=(X_validation, y_validation), shuffle=1)\n"
   ]
  },
  {
   "cell_type": "markdown",
   "id": "3e639925",
   "metadata": {},
   "source": [
    "# PLOTS"
   ]
  },
  {
   "cell_type": "code",
   "execution_count": 45,
   "id": "4017a798",
   "metadata": {
    "scrolled": true
   },
   "outputs": [
    {
     "data": {
      "image/png": "[encoded data removed]",
      "text/plain": [
       "<Figure size 432x288 with 1 Axes>"
      ]
     },
     "metadata": {},
     "output_type": "display_data"
    },
    {
     "data": {
      "image/png": "[encoded data removed]",
      "text/plain": [
       "<Figure size 432x288 with 1 Axes>"
      ]
     },
     "metadata": {},
     "output_type": "display_data"
    },
    {
     "name": "stdout",
     "output_type": "stream",
     "text": [
      "Test Score: 0.6011164784431458\n",
      "Test Accuracy: 0.8214285969734192\n"
     ]
    }
   ],
   "source": [
    "plt.style.use('dark_background') # plot style\n",
    "\n",
    "# Loss Graph\n",
    "plt.figure(0)\n",
    "plt.plot(history.history['loss'])\n",
    "plt.plot(history.history['val_loss'])\n",
    "plt.legend(['training','validation'])\n",
    "plt.title('loss')\n",
    "plt.xlabel('epoch')\n",
    "\n",
    "# Accuracy Graph\n",
    "plt.figure(1)\n",
    "plt.plot(history.history['accuracy'])\n",
    "plt.plot(history.history['val_accuracy'])\n",
    "plt.legend(['training','validation'])\n",
    "plt.title('Accuracy')\n",
    "plt.xlabel('epoch')\n",
    "plt.show()\n",
    "\n",
    "# Model Score\n",
    "score = model.evaluate(X_test, y_test, verbose=0)\n",
    "print('Test Score:', score[0])\n",
    "print('Test Accuracy:', score[1])\n"
   ]
  },
  {
   "cell_type": "markdown",
   "id": "33655f9b",
   "metadata": {},
   "source": [
    "# Saving Model"
   ]
  },
  {
   "cell_type": "code",
   "execution_count": 18,
   "id": "418ae059",
   "metadata": {},
   "outputs": [],
   "source": [
    "os.chdir(r\"D:\\amrita\\sem 3\\IBS3\\ENDSEM\\Brain Tumor Detection using CNN\")\n",
    "model.save('modelnicename.h5')"
   ]
  },
  {
   "cell_type": "markdown",
   "id": "abc6f5c4",
   "metadata": {},
   "source": [
    "# TESTING"
   ]
  },
  {
   "cell_type": "code",
   "execution_count": 1,
   "id": "0f634b42",
   "metadata": {},
   "outputs": [],
   "source": [
    "from matplotlib.pyplot import imshow\n",
    "from tkinter import filedialog\n",
    "from tensorflow import keras\n",
    "from PIL import ImageTk\n",
    "from tkinter import *\n",
    "import tkinter as tk\n",
    "import numpy as np\n",
    "import PIL.Image\n",
    "import os"
   ]
  },
  {
   "cell_type": "code",
   "execution_count": 2,
   "id": "0fccdf52",
   "metadata": {},
   "outputs": [],
   "source": [
    "# Changing current directory location\n",
    "os.chdir(r\"D:\\amrita\\sem 3\\IBS3\\ENDSEM\\Brain Tumor Detection using CNN\")"
   ]
  },
  {
   "cell_type": "code",
   "execution_count": 3,
   "id": "35b367dc",
   "metadata": {},
   "outputs": [],
   "source": [
    "# Importing saved model\n",
    "model = keras.models.load_model('modelnicename.h5')"
   ]
  },
  {
   "cell_type": "code",
   "execution_count": 4,
   "id": "7ea92a6a",
   "metadata": {},
   "outputs": [],
   "source": [
    "# Classification Function\n",
    "def names(number):\n",
    "    if number==0:\n",
    "        return 'Its a Tumor'\n",
    "    else:\n",
    "        return 'No, Its not a tumor'"
   ]
  },
  {
   "cell_type": "markdown",
   "id": "babfcfe6",
   "metadata": {},
   "source": [
    "# Sample Classification"
   ]
  },
  {
   "cell_type": "code",
   "execution_count": 5,
   "id": "1abf11df",
   "metadata": {},
   "outputs": [
    {
     "name": "stdout",
     "output_type": "stream",
     "text": [
      "[[0.10888572 0.8911143 ]]\n",
      "89.11142945289612% Confidence. No, Its not a tumor\n"
     ]
    },
    {
     "data": {
      "image/png": "[encoded data removed]",
      "text/plain": [
       "<Figure size 432x288 with 1 Axes>"
      ]
     },
     "metadata": {
      "needs_background": "light"
     },
     "output_type": "display_data"
    }
   ],
   "source": [
    "img = PIL.Image.open(r\"brain_tumor_dataset/no/2 no.jpeg\")\n",
    "x = np.array(img.resize((128,128)))\n",
    "x = x.reshape(1,128,128,3)\n",
    "res = model.predict_on_batch(x)\n",
    "print(res)\n",
    "classification = np.where(res == np.amax(res))[1][0]\n",
    "imshow(img)\n",
    "print(str(res[0][classification]*100) + '% Confidence. ' + names(classification))"
   ]
  },
  {
   "cell_type": "markdown",
   "id": "eb3a0575",
   "metadata": {},
   "source": [
    "# Graphical User Interface (GUI)"
   ]
  },
  {
   "cell_type": "code",
   "execution_count": null,
   "id": "b15f8a04",
   "metadata": {},
   "outputs": [
    {
     "name": "stdout",
     "output_type": "stream",
     "text": [
      "97.96732664108276% Confidence, No, Its not a tumor\n",
      "94.68491077423096% Confidence, No, Its not a tumor\n",
      "97.96732664108276% Confidence, No, Its not a tumor\n"
     ]
    }
   ],
   "source": [
    "import warnings\n",
    "\n",
    "# Window Initialization\n",
    "top=tk.Tk()\n",
    "top.geometry('700x500')\n",
    "top.title('Brain Tumor Detection using CNN')\n",
    "top.configure(background='deep sky blue')\n",
    "\n",
    "# Tumor or Not Text Box\n",
    "label=Label(top,background='deep sky blue', font=('Raleway',15,'bold'))\n",
    "sign_image = Label(top)\n",
    "sign_image.configure(background='deep sky blue')\n",
    "\n",
    "# Classification\n",
    "def classify(file_path):\n",
    "    global label_packed\n",
    "    im=PIL.Image.open(file_path)\n",
    "    x = np.array(im.resize((128,128)))\n",
    "    x = x.reshape(1,128,128,3)\n",
    "    res = model.predict_on_batch(x)\n",
    "    classification = np.where(res == np.amax(res))[1][0]\n",
    "    print(str(res[0][classification]*100) + '% Confidence, ' + names(classification))\n",
    "    label.configure(foreground='indianred1',background='white', font=('Raleway',20),text=names(classification)) \n",
    "    warnings.filterwarnings('ignore')\n",
    "    \n",
    "# Classify Button\n",
    "def show_classify_button(file_path):\n",
    "    classify_b=Button(top,text=\"Classify Image\",command=lambda: classify(file_path),padx=10,pady=5) #Calling classify function\n",
    "    classify_b.configure(background='white', foreground='#20bebe',font=('Raleway',12,'bold'))\n",
    "    classify_b.place(relx=0.55,rely=0.845)\n",
    "\n",
    "# Function for Uploading Image\n",
    "def upload_image():\n",
    "    try:\n",
    "        file_path=filedialog.askopenfilename()\n",
    "        uploaded=PIL.Image.open(file_path)\n",
    "        uploaded.thumbnail(((top.winfo_width()/3),(top.winfo_height()/3)))\n",
    "        im=ImageTk.PhotoImage(uploaded)\n",
    "        img = tk.Label(top, image=im)\n",
    "        img.image = im\n",
    "        img.place(x=260, y=200)\n",
    "        show_classify_button(file_path) # Showing classification button after we upload the image\n",
    "    except:\n",
    "        pass\n",
    "    \n",
    "# Upload Button\n",
    "upload=Button(top,text=\"Upload an image\",command=upload_image,padx=10,pady=5)\n",
    "upload.configure(background='white', foreground='#20bebe',font=('Raleway',12,'bold'))\n",
    "upload.place(relx=0.275,rely=0.845)\n",
    "sign_image.pack(side=BOTTOM,expand=True)\n",
    "label.pack(side=BOTTOM,expand=True)\n",
    "# Heading\n",
    "heading = Label(top, text=\"Brain Tumor Detection\",pady=18, font=('Raleway',20,'bold'))\n",
    "heading.configure(background='white',foreground='#20bebe')\n",
    "heading.pack()\n",
    "top.mainloop()\n",
    "\n",
    "# Warnings Handling\n",
    "warnings.filterwarnings('ignore')"
   ]
  },
  {
   "cell_type": "code",
   "execution_count": null,
   "id": "818ed210",
   "metadata": {},
   "outputs": [],
   "source": []
  },
  {
   "cell_type": "code",
   "execution_count": null,
   "id": "9bbdd479",
   "metadata": {},
   "outputs": [],
   "source": []
  }
 ],
 "metadata": {
  "kernelspec": {
   "display_name": "Python 3 (ipykernel)",
   "language": "python",
   "name": "python3"
  },
  "language_info": {
   "codemirror_mode": {
    "name": "ipython",
    "version": 3
   },
   "file_extension": ".py",
   "mimetype": "text/x-python",
   "name": "python",
   "nbconvert_exporter": "python",
   "pygments_lexer": "ipython3",
   "version": "3.8.12"
  }
 },
 "nbformat": 4,
 "nbformat_minor": 5
}
